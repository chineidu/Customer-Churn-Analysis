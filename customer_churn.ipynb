{
 "cells": [
  {
   "cell_type": "markdown",
   "metadata": {},
   "source": [
    "# Customer Churn Prediction"
   ]
  },
  {
   "cell_type": "code",
   "execution_count": 1,
   "metadata": {},
   "outputs": [
    {
     "data": {
      "text/html": [
       "        <script type=\"text/javascript\">\n",
       "        window.PlotlyConfig = {MathJaxConfig: 'local'};\n",
       "        if (window.MathJax) {MathJax.Hub.Config({SVG: {font: \"STIX-Web\"}});}\n",
       "        if (typeof require !== 'undefined') {\n",
       "        require.undef(\"plotly\");\n",
       "        requirejs.config({\n",
       "            paths: {\n",
       "                'plotly': ['https://cdn.plot.ly/plotly-latest.min']\n",
       "            }\n",
       "        });\n",
       "        require(['plotly'], function(Plotly) {\n",
       "            window._Plotly = Plotly;\n",
       "        });\n",
       "        }\n",
       "        </script>\n",
       "        "
      ]
     },
     "metadata": {},
     "output_type": "display_data"
    }
   ],
   "source": [
    "# Python libraries for data analysis\n",
    "import numpy as np \n",
    "import pandas as pd \n",
    "\n",
    "# adjust pandas display settings\n",
    "pd.set_option('max_rows', 100)\n",
    "pd.set_option('max_columns', 100)\n",
    "\n",
    "# Visualization libraries\n",
    "import matplotlib.pyplot as plt \n",
    "# Plotting Style\n",
    "plt.style.use('Solarize_Light2')\n",
    "\n",
    "# visualization libraries\n",
    "import matplotlib.pyplot as plt\n",
    "\n",
    "# Plotting Style\n",
    "plt.style.use('Solarize_Light2')\n",
    "\n",
    "# Set the default figure size\n",
    "plt.rcParams[\"figure.figsize\"] = (10, 6)\n",
    "\n",
    "import seaborn as sns\n",
    "\n",
    "import cufflinks as cf\n",
    "cf.go_offline()\n",
    "\n",
    "# random state\n",
    "rdm_st =123\n",
    "\n",
    "# palette\n",
    "palette='Set2'"
   ]
  },
  {
   "cell_type": "code",
   "execution_count": 2,
   "metadata": {},
   "outputs": [],
   "source": [
    "# Helper Functions\n",
    "\n",
    "def count_plot(cols:list, nrows:int, ncols:int, df:pd.DataFrame, hue:str='Churn', palette:str='Set2') -> 'sns countplot':\n",
    "    fig, axs = plt.subplots(nrows, ncols, figsize=(15, 7))\n",
    "\n",
    "    for idx, col in enumerate(cols):\n",
    "        if nrows == 1:\n",
    "            ax = axs[idx]\n",
    "            sns.countplot(data=data1, x=col, hue=targ, ax=ax, palette=palette)\n",
    "            ax.set_title(f\"Bar Plot of {col}\", size=15, color='red')\n",
    "            \n",
    "        else:   # if nrows > 1\n",
    "            ax = axs[idx // ncols, idx % ncols]\n",
    "            sns.countplot(data=data1, x=col, hue=targ, ax=ax, palette=palette)\n",
    "            ax.set_title(f\"Bar Plot of {col}\", size=15, color='red')\n",
    "            \n",
    "            \n",
    "        # Annotate the plots\n",
    "        for bar in ax.patches:\n",
    "            x_val = bar.get_x() + bar.get_width() / 2       # x pos\n",
    "            y_val = bar.get_height()                        # y pos\n",
    "            ax.annotate(text=y_val,                         # text pos\n",
    "                        xy=(x_val, y_val),                  # (x, y)\n",
    "                        xytext=(0, 6),                      # text position\n",
    "                        ha='center',                        # horizontal alignment\n",
    "                        va='center',                        # vertical alignment\n",
    "                        size=12,                            # text size\n",
    "                        textcoords='offset points')         # text coordinates???\n",
    "\n",
    "    fig.tight_layout()\n",
    "    plt.show()\n",
    "\n",
    "\n",
    "    \n",
    "def annotated_barplot(col:str, targ:str, df:pd.DataFrame, palette:str='Set2') -> 'boxplot':\n",
    "    \n",
    "    a = df.groupby(col)[targ].value_counts(normalize=True)  # convert the value counts of the groupby to fraction between 0 and 1\n",
    "    a = a.mul(100)   # convert to percentage\n",
    "    a = a.rename('Percent').reset_index()  # rename the column and reset the index\n",
    "    \n",
    "    # make plot\n",
    "    nrows, ncols = 1, 1\n",
    "    fig, ax = plt.subplots(nrows, ncols, figsize=(10, 5))\n",
    "    ax = sns.barplot(x=col, y='Percent', hue=targ, data=a, palette=palette)\n",
    "    ax.set_title(f\"Bar Plot of {col} Showing Customers That Churned\", size=15, weight='bold')\n",
    "    \n",
    "    # Annotate the plots\n",
    "    for bar in ax.patches:\n",
    "        x_val = bar.get_x() + bar.get_width() / 2       # x pos\n",
    "        y_val = bar.get_height()                        # y pos\n",
    "        ax.annotate(text=f\"{round(y_val, 1)}%\",         # text pos\n",
    "                    xy=(x_val, y_val),                  # (x, y)\n",
    "                    xytext=(0, 6),                      # text position\n",
    "                    ha='center',                        # horizontal alignment\n",
    "                    va='center',                        # vertical alignment\n",
    "                    size=12,                            # text size\n",
    "                    textcoords='offset points')         # text coordinates???\n",
    "\n",
    "    fig.tight_layout()\n",
    "    plt.show()\n",
    "    \n",
    "\n",
    "    \n",
    "from IPython.display import display_html\n",
    "from itertools import chain,cycle\n",
    "\n",
    "def display_side_by_side(*args,titles=cycle([''])):\n",
    "    \"\"\"It enables dataframes to be displayed side by side.\"\"\"\n",
    "    \n",
    "    html_str=''\n",
    "    for df,title in zip(args, chain(titles,cycle(['</br>'])) ):\n",
    "        html_str+='<th style=\"text-align:center\"><td style=\"vertical-align:top\">'\n",
    "        html_str+=f'<h2>{title}</h2>'\n",
    "        html_str+=df.to_html().replace('table','table style=\"display:inline\"')\n",
    "        html_str+='</td></th>'\n",
    "        \n",
    "    display_html(html_str,raw=True)\n",
    "    "
   ]
  },
  {
   "cell_type": "code",
   "execution_count": 3,
   "metadata": {},
   "outputs": [
    {
     "data": {
      "text/html": [
       "<div>\n",
       "<style scoped>\n",
       "    .dataframe tbody tr th:only-of-type {\n",
       "        vertical-align: middle;\n",
       "    }\n",
       "\n",
       "    .dataframe tbody tr th {\n",
       "        vertical-align: top;\n",
       "    }\n",
       "\n",
       "    .dataframe thead th {\n",
       "        text-align: right;\n",
       "    }\n",
       "</style>\n",
       "<table border=\"1\" class=\"dataframe\">\n",
       "  <thead>\n",
       "    <tr style=\"text-align: right;\">\n",
       "      <th></th>\n",
       "      <th>customerID</th>\n",
       "      <th>gender</th>\n",
       "      <th>SeniorCitizen</th>\n",
       "      <th>Partner</th>\n",
       "      <th>Dependents</th>\n",
       "      <th>tenure</th>\n",
       "      <th>PhoneService</th>\n",
       "      <th>MultipleLines</th>\n",
       "      <th>InternetService</th>\n",
       "      <th>OnlineSecurity</th>\n",
       "      <th>OnlineBackup</th>\n",
       "      <th>DeviceProtection</th>\n",
       "      <th>TechSupport</th>\n",
       "      <th>StreamingTV</th>\n",
       "      <th>StreamingMovies</th>\n",
       "      <th>Contract</th>\n",
       "      <th>PaperlessBilling</th>\n",
       "      <th>PaymentMethod</th>\n",
       "      <th>MonthlyCharges</th>\n",
       "      <th>TotalCharges</th>\n",
       "      <th>Churn</th>\n",
       "    </tr>\n",
       "  </thead>\n",
       "  <tbody>\n",
       "    <tr>\n",
       "      <th>0</th>\n",
       "      <td>7590-VHVEG</td>\n",
       "      <td>Female</td>\n",
       "      <td>0</td>\n",
       "      <td>Yes</td>\n",
       "      <td>No</td>\n",
       "      <td>1</td>\n",
       "      <td>No</td>\n",
       "      <td>No phone service</td>\n",
       "      <td>DSL</td>\n",
       "      <td>No</td>\n",
       "      <td>Yes</td>\n",
       "      <td>No</td>\n",
       "      <td>No</td>\n",
       "      <td>No</td>\n",
       "      <td>No</td>\n",
       "      <td>Month-to-month</td>\n",
       "      <td>Yes</td>\n",
       "      <td>Electronic check</td>\n",
       "      <td>29.85</td>\n",
       "      <td>29.85</td>\n",
       "      <td>No</td>\n",
       "    </tr>\n",
       "    <tr>\n",
       "      <th>1</th>\n",
       "      <td>5575-GNVDE</td>\n",
       "      <td>Male</td>\n",
       "      <td>0</td>\n",
       "      <td>No</td>\n",
       "      <td>No</td>\n",
       "      <td>34</td>\n",
       "      <td>Yes</td>\n",
       "      <td>No</td>\n",
       "      <td>DSL</td>\n",
       "      <td>Yes</td>\n",
       "      <td>No</td>\n",
       "      <td>Yes</td>\n",
       "      <td>No</td>\n",
       "      <td>No</td>\n",
       "      <td>No</td>\n",
       "      <td>One year</td>\n",
       "      <td>No</td>\n",
       "      <td>Mailed check</td>\n",
       "      <td>56.95</td>\n",
       "      <td>1889.5</td>\n",
       "      <td>No</td>\n",
       "    </tr>\n",
       "    <tr>\n",
       "      <th>2</th>\n",
       "      <td>3668-QPYBK</td>\n",
       "      <td>Male</td>\n",
       "      <td>0</td>\n",
       "      <td>No</td>\n",
       "      <td>No</td>\n",
       "      <td>2</td>\n",
       "      <td>Yes</td>\n",
       "      <td>No</td>\n",
       "      <td>DSL</td>\n",
       "      <td>Yes</td>\n",
       "      <td>Yes</td>\n",
       "      <td>No</td>\n",
       "      <td>No</td>\n",
       "      <td>No</td>\n",
       "      <td>No</td>\n",
       "      <td>Month-to-month</td>\n",
       "      <td>Yes</td>\n",
       "      <td>Mailed check</td>\n",
       "      <td>53.85</td>\n",
       "      <td>108.15</td>\n",
       "      <td>Yes</td>\n",
       "    </tr>\n",
       "  </tbody>\n",
       "</table>\n",
       "</div>"
      ],
      "text/plain": [
       "   customerID  gender  SeniorCitizen Partner Dependents  tenure PhoneService  \\\n",
       "0  7590-VHVEG  Female              0     Yes         No       1           No   \n",
       "1  5575-GNVDE    Male              0      No         No      34          Yes   \n",
       "2  3668-QPYBK    Male              0      No         No       2          Yes   \n",
       "\n",
       "      MultipleLines InternetService OnlineSecurity OnlineBackup  \\\n",
       "0  No phone service             DSL             No          Yes   \n",
       "1                No             DSL            Yes           No   \n",
       "2                No             DSL            Yes          Yes   \n",
       "\n",
       "  DeviceProtection TechSupport StreamingTV StreamingMovies        Contract  \\\n",
       "0               No          No          No              No  Month-to-month   \n",
       "1              Yes          No          No              No        One year   \n",
       "2               No          No          No              No  Month-to-month   \n",
       "\n",
       "  PaperlessBilling     PaymentMethod  MonthlyCharges TotalCharges Churn  \n",
       "0              Yes  Electronic check           29.85        29.85    No  \n",
       "1               No      Mailed check           56.95       1889.5    No  \n",
       "2              Yes      Mailed check           53.85       108.15   Yes  "
      ]
     },
     "execution_count": 3,
     "metadata": {},
     "output_type": "execute_result"
    }
   ],
   "source": [
    "# load the data\n",
    "data = pd.read_csv(\"data/WA_Fn-UseC_-Telco-Customer-Churn.csv\")\n",
    "data.head(3)"
   ]
  },
  {
   "cell_type": "code",
   "execution_count": 4,
   "metadata": {},
   "outputs": [
    {
     "data": {
      "text/plain": [
       "Index(['customerID', 'gender', 'SeniorCitizen', 'Partner', 'Dependents',\n",
       "       'tenure', 'PhoneService', 'MultipleLines', 'InternetService',\n",
       "       'OnlineSecurity', 'OnlineBackup', 'DeviceProtection', 'TechSupport',\n",
       "       'StreamingTV', 'StreamingMovies', 'Contract', 'PaperlessBilling',\n",
       "       'PaymentMethod', 'MonthlyCharges', 'TotalCharges', 'Churn'],\n",
       "      dtype='object')"
      ]
     },
     "execution_count": 4,
     "metadata": {},
     "output_type": "execute_result"
    }
   ],
   "source": [
    "# Column names\n",
    "data.columns"
   ]
  },
  {
   "cell_type": "code",
   "execution_count": 5,
   "metadata": {},
   "outputs": [
    {
     "name": "stdout",
     "output_type": "stream",
     "text": [
      "<class 'pandas.core.frame.DataFrame'>\n",
      "RangeIndex: 7043 entries, 0 to 7042\n",
      "Data columns (total 21 columns):\n",
      " #   Column            Non-Null Count  Dtype  \n",
      "---  ------            --------------  -----  \n",
      " 0   customerID        7043 non-null   object \n",
      " 1   gender            7043 non-null   object \n",
      " 2   SeniorCitizen     7043 non-null   int64  \n",
      " 3   Partner           7043 non-null   object \n",
      " 4   Dependents        7043 non-null   object \n",
      " 5   tenure            7043 non-null   int64  \n",
      " 6   PhoneService      7043 non-null   object \n",
      " 7   MultipleLines     7043 non-null   object \n",
      " 8   InternetService   7043 non-null   object \n",
      " 9   OnlineSecurity    7043 non-null   object \n",
      " 10  OnlineBackup      7043 non-null   object \n",
      " 11  DeviceProtection  7043 non-null   object \n",
      " 12  TechSupport       7043 non-null   object \n",
      " 13  StreamingTV       7043 non-null   object \n",
      " 14  StreamingMovies   7043 non-null   object \n",
      " 15  Contract          7043 non-null   object \n",
      " 16  PaperlessBilling  7043 non-null   object \n",
      " 17  PaymentMethod     7043 non-null   object \n",
      " 18  MonthlyCharges    7043 non-null   float64\n",
      " 19  TotalCharges      7043 non-null   object \n",
      " 20  Churn             7043 non-null   object \n",
      "dtypes: float64(1), int64(2), object(18)\n",
      "memory usage: 1.1+ MB\n"
     ]
    }
   ],
   "source": [
    "# Information about the data\n",
    "data.info()"
   ]
  },
  {
   "cell_type": "code",
   "execution_count": 6,
   "metadata": {},
   "outputs": [
    {
     "data": {
      "text/plain": [
       "customerID          0\n",
       "gender              0\n",
       "SeniorCitizen       0\n",
       "Partner             0\n",
       "Dependents          0\n",
       "tenure              0\n",
       "PhoneService        0\n",
       "MultipleLines       0\n",
       "InternetService     0\n",
       "OnlineSecurity      0\n",
       "OnlineBackup        0\n",
       "DeviceProtection    0\n",
       "TechSupport         0\n",
       "StreamingTV         0\n",
       "StreamingMovies     0\n",
       "Contract            0\n",
       "PaperlessBilling    0\n",
       "PaymentMethod       0\n",
       "MonthlyCharges      0\n",
       "TotalCharges        0\n",
       "Churn               0\n",
       "dtype: int64"
      ]
     },
     "execution_count": 6,
     "metadata": {},
     "output_type": "execute_result"
    }
   ],
   "source": [
    "# Check for NULL values\n",
    "data.isna().sum()"
   ]
  },
  {
   "cell_type": "code",
   "execution_count": 7,
   "metadata": {},
   "outputs": [
    {
     "data": {
      "text/plain": [
       "{int64: ['SeniorCitizen', 'tenure'], float64: ['MonthlyCharges'], object: ['gender', 'Partner', 'Dependents', 'PhoneService', 'MultipleLines', 'InternetService', 'OnlineSecurity', 'OnlineBackup', 'DeviceProtection', 'TechSupport', 'StreamingTV', 'StreamingMovies', 'Contract', 'PaperlessBilling', 'PaymentMethod', 'TotalCharges', 'Churn']}"
      ]
     },
     "execution_count": 7,
     "metadata": {},
     "output_type": "execute_result"
    }
   ],
   "source": [
    "data1 = data.copy()\n",
    "\n",
    "# drop the unnecessary column(s)\n",
    "data1 = data1.drop(columns=['customerID'])\n",
    "\n",
    "# convert column nmaes to series\n",
    "cols = data1.columns.to_series()\n",
    "\n",
    "# group the column names by datatypes (of the dataframe)\n",
    "cols.groupby(data1.dtypes).groups"
   ]
  },
  {
   "cell_type": "markdown",
   "metadata": {},
   "source": [
    "* **From the dict shown above, `TotalCharges` is a Pandas object instead of a numerical datatype**"
   ]
  },
  {
   "cell_type": "code",
   "execution_count": 8,
   "metadata": {},
   "outputs": [
    {
     "data": {
      "text/plain": [
       "11"
      ]
     },
     "execution_count": 8,
     "metadata": {},
     "output_type": "execute_result"
    }
   ],
   "source": [
    "# 'TotalCharges' contains 'whitespaces'\n",
    "filter_whitespaces = data1['TotalCharges'].str.contains(r\"[\\s]\")\n",
    "len(data1.loc[filter_whitespaces, 'TotalCharges'])"
   ]
  },
  {
   "cell_type": "code",
   "execution_count": 9,
   "metadata": {},
   "outputs": [],
   "source": [
    "# replace 'whitespaces' with 'NaN'\n",
    "data1['TotalCharges'] = np.where(data1['TotalCharges'] == ' ', np.nan, data1['TotalCharges'])\n",
    "\n",
    "# convert to numerical datatype\n",
    "data1['TotalCharges'] = data1['TotalCharges'].astype('float')\n",
    "\n",
    "# drop the 'NaN' values\n",
    "data1 = data1.dropna()"
   ]
  },
  {
   "cell_type": "code",
   "execution_count": 10,
   "metadata": {},
   "outputs": [],
   "source": [
    "# target feature\n",
    "targ = 'Churn'\n",
    "\n",
    "# characteristics of the customers\n",
    "cust_feats = ['gender', 'Partner', 'Dependents', 'SeniorCitizen']\n",
    "\n",
    "# numerical features\n",
    "num_feats = ['tenure', 'MonthlyCharges', 'TotalCharges']  \n",
    "\n",
    "# customer transaction history\n",
    "trn_history = ['Contract', 'tenure', 'MonthlyCharges', 'TotalCharges', 'PaymentMethod', 'PaperlessBilling']\n",
    "\n",
    "# services oferred by the telecommunication company\n",
    "telco_feats = ['PhoneService', 'MultipleLines', 'InternetService', 'OnlineSecurity', 'OnlineBackup', 'DeviceProtection', 'TechSupport', 'StreamingTV', 'StreamingMovies', ]\n"
   ]
  },
  {
   "cell_type": "code",
   "execution_count": 11,
   "metadata": {},
   "outputs": [
    {
     "data": {
      "text/html": [
       "<div>\n",
       "<style scoped>\n",
       "    .dataframe tbody tr th:only-of-type {\n",
       "        vertical-align: middle;\n",
       "    }\n",
       "\n",
       "    .dataframe tbody tr th {\n",
       "        vertical-align: top;\n",
       "    }\n",
       "\n",
       "    .dataframe thead th {\n",
       "        text-align: right;\n",
       "    }\n",
       "</style>\n",
       "<table border=\"1\" class=\"dataframe\">\n",
       "  <thead>\n",
       "    <tr style=\"text-align: right;\">\n",
       "      <th></th>\n",
       "      <th>tenure</th>\n",
       "      <th>MonthlyCharges</th>\n",
       "      <th>TotalCharges</th>\n",
       "    </tr>\n",
       "  </thead>\n",
       "  <tbody>\n",
       "    <tr>\n",
       "      <th>count</th>\n",
       "      <td>7032.000000</td>\n",
       "      <td>7032.000000</td>\n",
       "      <td>7032.000000</td>\n",
       "    </tr>\n",
       "    <tr>\n",
       "      <th>mean</th>\n",
       "      <td>32.421786</td>\n",
       "      <td>64.798208</td>\n",
       "      <td>2283.300441</td>\n",
       "    </tr>\n",
       "    <tr>\n",
       "      <th>std</th>\n",
       "      <td>24.545260</td>\n",
       "      <td>30.085974</td>\n",
       "      <td>2266.771362</td>\n",
       "    </tr>\n",
       "    <tr>\n",
       "      <th>min</th>\n",
       "      <td>1.000000</td>\n",
       "      <td>18.250000</td>\n",
       "      <td>18.800000</td>\n",
       "    </tr>\n",
       "    <tr>\n",
       "      <th>25%</th>\n",
       "      <td>9.000000</td>\n",
       "      <td>35.587500</td>\n",
       "      <td>401.450000</td>\n",
       "    </tr>\n",
       "    <tr>\n",
       "      <th>50%</th>\n",
       "      <td>29.000000</td>\n",
       "      <td>70.350000</td>\n",
       "      <td>1397.475000</td>\n",
       "    </tr>\n",
       "    <tr>\n",
       "      <th>75%</th>\n",
       "      <td>55.000000</td>\n",
       "      <td>89.862500</td>\n",
       "      <td>3794.737500</td>\n",
       "    </tr>\n",
       "    <tr>\n",
       "      <th>max</th>\n",
       "      <td>72.000000</td>\n",
       "      <td>118.750000</td>\n",
       "      <td>8684.800000</td>\n",
       "    </tr>\n",
       "  </tbody>\n",
       "</table>\n",
       "</div>"
      ],
      "text/plain": [
       "            tenure  MonthlyCharges  TotalCharges\n",
       "count  7032.000000     7032.000000   7032.000000\n",
       "mean     32.421786       64.798208   2283.300441\n",
       "std      24.545260       30.085974   2266.771362\n",
       "min       1.000000       18.250000     18.800000\n",
       "25%       9.000000       35.587500    401.450000\n",
       "50%      29.000000       70.350000   1397.475000\n",
       "75%      55.000000       89.862500   3794.737500\n",
       "max      72.000000      118.750000   8684.800000"
      ]
     },
     "execution_count": 11,
     "metadata": {},
     "output_type": "execute_result"
    }
   ],
   "source": [
    "# descriptive Statistics\n",
    "data1[num_feats].describe()"
   ]
  },
  {
   "cell_type": "markdown",
   "metadata": {},
   "source": [
    "### Univariate Analysis"
   ]
  },
  {
   "cell_type": "code",
   "execution_count": 12,
   "metadata": {},
   "outputs": [
    {
     "data": {
      "image/png": "[encoded data removed]",
      "text/plain": [
       "<Figure size 1080x432 with 3 Axes>"
      ]
     },
     "metadata": {},
     "output_type": "display_data"
    }
   ],
   "source": [
    "# Histogram of numerical features\n",
    "fig, axs = plt.subplots(1, 3, figsize=(15, 6))\n",
    "\n",
    "for idx, col in enumerate(num_feats):\n",
    "    ax = axs[idx]\n",
    "    sns.histplot(data=data1, x=col, kde=True, ax=ax, bins=20)\n",
    "    ax.set_title(f\"Histogram of {col}\", size=17)\n",
    "    \n",
    "fig.tight_layout()\n",
    "plt.show()"
   ]
  },
  {
   "cell_type": "markdown",
   "metadata": {},
   "source": [
    "**Comment:**\n",
    "* It seems that the number of customers with `tenure` < 10 months and `tenure` of about 70 months is very high.\n",
    "* The distribution of `MonthlyCharges` does not follow a normal distribution. It appears that the `MonthlyCharges` of the customers fall into two categories and this may as a result of the contract type. The first category spend on average about 20 dollars while the secon category speand 80 dollars monthly.\n",
    "* The distribution of `TotalCharges` follows an exponential distribution."
   ]
  },
  {
   "cell_type": "code",
   "execution_count": null,
   "metadata": {},
   "outputs": [],
   "source": [
    "# Box plot of the numerical features\n",
    "fig, axs = plt.subplots(1, 3, figsize=(15, 5))\n",
    "\n",
    "for idx, col in enumerate(num_feats):\n",
    "    ax = axs[idx]\n",
    "    sns.boxplot(data=data1, y=col, ax=ax)\n",
    "    ax.set_title(f\"Box Plot of {col}\", size=17)\n",
    "    \n",
    "fig.tight_layout()\n",
    "plt.show()"
   ]
  },
  {
   "cell_type": "code",
   "execution_count": null,
   "metadata": {},
   "outputs": [],
   "source": []
  },
  {
   "cell_type": "code",
   "execution_count": null,
   "metadata": {},
   "outputs": [],
   "source": [
    "# Visualize the target\n",
    "a = data1['Churn'].value_counts()\n",
    "print(a)\n",
    "print(f\"\\n\\n\\n\")\n",
    "\n",
    "plt.pie(x=a.values, explode=[0.04, 0], labels=['No', 'Yes'], autopct='%1.1f%%', startangle=90, textprops={'size': 16}, radius=1.3)\n",
    "plt.title('Pie Chart of Churn Rate', size=18, weight='bold', y=1.05)\n",
    "\n",
    "plt.show()"
   ]
  },
  {
   "cell_type": "markdown",
   "metadata": {},
   "source": [
    "**Comment:**\n",
    "* The **churn rate** is **~27%**\n",
    "\n",
    "<br>"
   ]
  },
  {
   "cell_type": "code",
   "execution_count": null,
   "metadata": {},
   "outputs": [],
   "source": [
    "# Customer features\n",
    "for col in cust_feats:\n",
    "    v = data1[col].value_counts(normalize=True).apply(lambda x: f\"{round((x*100), 1)}%\")   # round the percentage value counts of each feature\n",
    "    print(f\"{col} \\n{v}\")\n",
    "    print(\"==\" * 30)"
   ]
  },
  {
   "cell_type": "code",
   "execution_count": null,
   "metadata": {},
   "outputs": [],
   "source": [
    "# Customer features\n",
    "count_plot(['Dependents', 'SeniorCitizen'], 1, 2, data1, 'tab10')"
   ]
  },
  {
   "cell_type": "markdown",
   "metadata": {},
   "source": [
    "<br>\n",
    "\n",
    "**Comment:**\n",
    "* `Gender` and `Partner` are fairly balanced features.\n",
    "* Most customers are Not `Senior Citizens` and also have No `Dependents`.\n"
   ]
  },
  {
   "cell_type": "code",
   "execution_count": null,
   "metadata": {},
   "outputs": [],
   "source": [
    "# Transaction History features\n",
    "for col in ['Contract', 'PaymentMethod', 'PaperlessBilling']:\n",
    "    v = data1[col].value_counts(normalize=True).apply(lambda x: f\"{round((x*100), 1)}%\")   # round the percentage value counts of each feature\n",
    "    print(f\"{col} \\n{v}\")\n",
    "    print(\"==\" * 30)"
   ]
  },
  {
   "cell_type": "markdown",
   "metadata": {},
   "source": [
    "<br>\n",
    "\n",
    "**Comment:**\n",
    "* For the `Contract` type, most customers are on a **Month-to-month** contract.\n",
    "* **Electronic check** is the most common `PaymentMethod` type.\n"
   ]
  },
  {
   "cell_type": "code",
   "execution_count": null,
   "metadata": {},
   "outputs": [],
   "source": [
    "# Services oferred by the telecommunication company\n",
    "for col in telco_feats:\n",
    "    v = data1[col].value_counts(normalize=True).apply(lambda x: f\"{round((x*100), 1)}%\")   # round the percentage value counts of each feature\n",
    "    print(f\"{col} \\n{v}\")\n",
    "    print(\"==\" * 30)"
   ]
  },
  {
   "cell_type": "markdown",
   "metadata": {},
   "source": [
    "<br>\n",
    "\n",
    "* A high percentage of the customers did **NOT** opt for the `Services` provided by the Telecoms Company."
   ]
  },
  {
   "cell_type": "code",
   "execution_count": null,
   "metadata": {},
   "outputs": [],
   "source": [
    "a = data1['PhoneService'].value_counts()\n",
    "print(a)\n",
    "print(f\"\\n\\n\\n\")\n",
    "\n",
    "plt.pie(x=a.values, explode=[0.05, 0], labels=['Yes', 'No'], autopct='%1.1f%%', startangle=90, textprops={'size': 16}, radius=1.3)\n",
    "plt.title('Pie Chart of Phone Service', size=18, weight='bold', y=1.07)\n",
    "\n",
    "plt.show()"
   ]
  },
  {
   "cell_type": "markdown",
   "metadata": {},
   "source": [
    "<br>\n",
    "\n",
    "**Comment:**\n",
    "* Most customers opted for `PhoneService`.\n",
    "\n",
    "<br>"
   ]
  },
  {
   "cell_type": "markdown",
   "metadata": {},
   "source": [
    "### Multivariate Analysis\n",
    "\n",
    "#### Numerical Features"
   ]
  },
  {
   "cell_type": "code",
   "execution_count": null,
   "metadata": {},
   "outputs": [],
   "source": [
    "data1.pivot_table(index=targ)\n",
    "\n",
    "# # OR\n",
    "# df.groupby('Churn').mean()"
   ]
  },
  {
   "cell_type": "code",
   "execution_count": null,
   "metadata": {},
   "outputs": [],
   "source": [
    "fig, axs = plt.subplots(1, 3, figsize=(17, 6))\n",
    "\n",
    "for (idx, col) in enumerate(['tenure', 'MonthlyCharges', 'TotalCharges']):\n",
    "    ax = axs[idx] \n",
    "    sns.histplot(x=col, data=data1, hue=targ, ax=ax, palette='Dark2')\n",
    "    ax.set_title(f\"Histogram of {col}\", weight='bold')\n",
    "\n",
    "fig.tight_layout()\n",
    "plt.show()"
   ]
  },
  {
   "cell_type": "markdown",
   "metadata": {},
   "source": [
    "<br>\n",
    "\n",
    "**Comment:**\n",
    "* Customers that churned had a shorter `tenure`. The loyal customers had a longer `tenure`.\n",
    "* `MonthlyCharges`: A lot of customers that churned spent about **70** to **110** dollars monthly while a lot of customers that did not churn spent between **20** to **30** dollars \n",
    "* As the `TotalCharges` increases, the count of customers reduces.\n",
    "\n",
    "<br>\n"
   ]
  },
  {
   "cell_type": "code",
   "execution_count": null,
   "metadata": {},
   "outputs": [],
   "source": [
    "d = data1[['tenure', 'MonthlyCharges', 'TotalCharges', 'Churn']] \n",
    "sns.pairplot(data=d, hue=targ, diag_kind='hist', height=3, palette=palette)"
   ]
  },
  {
   "cell_type": "markdown",
   "metadata": {},
   "source": [
    "**Comment:**\n",
    "* `TotalCharges` is positively correlated with `tenure` and `MonthlyCharges`.\n",
    "\n",
    "<br>"
   ]
  },
  {
   "cell_type": "markdown",
   "metadata": {},
   "source": [
    "#### Customer Demography"
   ]
  },
  {
   "cell_type": "code",
   "execution_count": null,
   "metadata": {},
   "outputs": [],
   "source": [
    "data2 = data1.copy()\n",
    "\n",
    "# Add counter\n",
    "data2['Count'] = 1"
   ]
  },
  {
   "cell_type": "code",
   "execution_count": null,
   "metadata": {},
   "outputs": [],
   "source": [
    "# a = pd.crosstab(index=data1[targ], columns=data2['gender'], normalize='columns')\n",
    "# b = pd.crosstab(index=data1[targ], columns=data2['Partner'], normalize='columns')\n",
    "# c = pd.crosstab(index=data1[targ], columns=data2['SeniorCitizen'], normalize='columns')\n",
    "d = pd.crosstab(index=data1[targ], columns=data2['SeniorCitizen'], normalize='columns', margins=True)\n",
    "\n",
    "display_side_by_side(d, titles=['Customer Churn Rate For Dependents'])"
   ]
  },
  {
   "cell_type": "markdown",
   "metadata": {},
   "source": [
    "**Comment:**\n",
    "* Customer churn rate is high **(42%)** for customers with `Dependents`.\n",
    "* The churn rate for other customer demography (Gender, Partner, SeniorCitizen) isn't too high.\n",
    "\n",
    "<br>"
   ]
  },
  {
   "cell_type": "markdown",
   "metadata": {},
   "source": [
    "#### Services offered by the Telco"
   ]
  },
  {
   "cell_type": "code",
   "execution_count": null,
   "metadata": {},
   "outputs": [],
   "source": [
    "# Count plot of the Services offered by the Telco\n",
    "count_plot(telco_feats, 3, 3, data1)"
   ]
  },
  {
   "cell_type": "markdown",
   "metadata": {},
   "source": [
    "**Comment:**\n",
    "* It seems the customer churn rate is higher when there are **no additional services** provided by the Telecoms company.\n",
    "* `InternerService`, `OnlineSecurity`, `OnlineBackup`, and `TechSupport` will be further explored."
   ]
  },
  {
   "cell_type": "code",
   "execution_count": null,
   "metadata": {},
   "outputs": [],
   "source": [
    "a = pd.crosstab(index=data1[targ], columns=data2['InternetService'], values=data2['Count'], aggfunc=np.sum, margins=True)\n",
    "a = a / a.loc['All']\n",
    "\n",
    "b = pd.crosstab(index=data1[targ], columns=data2['OnlineSecurity'], normalize='columns')\n",
    "c = pd.crosstab(index=data1[targ], columns=data2['OnlineBackup'], normalize='columns')\n",
    "d = pd.crosstab(index=data1[targ], columns=data2['DeviceProtection'], normalize='columns')\n",
    "e = pd.crosstab(index=data1[targ], columns=data2['TechSupport'], normalize='columns')\n",
    "\n",
    "print(\"Frequency Tables\")\n",
    "display_side_by_side(a, b, e, titles=['Customer Churn Rate For InternetService', 'Customer Churn Rate For OnlineSecurity', 'Customer Churn Rate For TechSupport'])"
   ]
  },
  {
   "cell_type": "code",
   "execution_count": null,
   "metadata": {},
   "outputs": [],
   "source": [
    "annotated_barplot('InternetService', targ, data2)"
   ]
  },
  {
   "cell_type": "markdown",
   "metadata": {},
   "source": [
    "**Comment:**\n",
    "* About 42% of customers using **Fiber optic** `InternetService` churned. This is a pretty high percentage.\n",
    "* 42% of customers using **No** `OnlineSecurity`, `TechSupport` also churned."
   ]
  },
  {
   "cell_type": "markdown",
   "metadata": {},
   "source": [
    "<br>\n",
    "\n",
    "#### Customer transaction history"
   ]
  },
  {
   "cell_type": "code",
   "execution_count": null,
   "metadata": {},
   "outputs": [],
   "source": [
    "count_plot(['Contract', 'PaymentMethod', 'PaperlessBilling'], 1, 3, data2, targ)"
   ]
  },
  {
   "cell_type": "code",
   "execution_count": null,
   "metadata": {},
   "outputs": [],
   "source": [
    "# Let's explore 'PaymentMethod' further\n",
    "pd.crosstab(index=data1[targ], columns=data2['PaymentMethod'], normalize='columns')"
   ]
  },
  {
   "cell_type": "code",
   "execution_count": null,
   "metadata": {},
   "outputs": [],
   "source": [
    "annotated_barplot('PaymentMethod', targ, data2)"
   ]
  },
  {
   "cell_type": "markdown",
   "metadata": {},
   "source": [
    "**Comment:**\n",
    "* A high pecentage **(45%)** of customers that made payment using **Electronic check** churned."
   ]
  },
  {
   "cell_type": "markdown",
   "metadata": {},
   "source": [
    "<br>\n",
    "\n",
    "### Data Preprocessing"
   ]
  },
  {
   "cell_type": "code",
   "execution_count": null,
   "metadata": {},
   "outputs": [],
   "source": [
    "from sklearn.preprocessing import LabelEncoder"
   ]
  },
  {
   "cell_type": "code",
   "execution_count": null,
   "metadata": {},
   "outputs": [],
   "source": [
    "data3 = data1.copy()\n",
    "\n",
    "le = LabelEncoder()\n",
    "\n",
    "for col, dtype in zip(data3.columns, data3.dtypes):\n",
    "    if dtype == 'O':\n",
    "        # fit\n",
    "        le.fit(data3[col])\n",
    "        \n",
    "        # transform\n",
    "        data3[col] = le.transform(data3[col])\n",
    "        \n",
    "data3.info()"
   ]
  },
  {
   "cell_type": "code",
   "execution_count": null,
   "metadata": {},
   "outputs": [],
   "source": [
    "# Determine the features that are most correlated with the target\n",
    "pos_corr = data3.corr()[targ].sort_values(ascending=False)[:5]\n",
    "neg_corr = data3.corr()[targ].sort_values(ascending=True)[:3]\n",
    "\n",
    "# correlated features\n",
    "fig, axs = plt.subplots(1, 2, figsize=(12, 6))\n",
    "\n",
    "axs[0].barh(y=pos_corr.index, width=pos_corr.values) \n",
    "axs[0].set_xlabel('Correlation with Churn')\n",
    "axs[0].set_title('Positively Correlated Features', size=15)\n",
    "\n",
    "axs[1].barh(y=neg_corr.index, width=neg_corr.values) \n",
    "axs[1].set_xlabel('Correlation with Churn')\n",
    "axs[1].set_title('Negatively Correlated Features', size=15)\n",
    "\n",
    "fig.tight_layout()\n",
    "plt.show()"
   ]
  },
  {
   "cell_type": "code",
   "execution_count": null,
   "metadata": {},
   "outputs": [],
   "source": [
    "plt.figure(figsize=(25, 15))\n",
    "mask = np.triu(data3.corr())\n",
    "\n",
    "sns.heatmap(data=data3.corr(), mask=mask, annot=True)\n",
    "plt.show()"
   ]
  },
  {
   "cell_type": "code",
   "execution_count": null,
   "metadata": {},
   "outputs": [],
   "source": [
    "from sklearn.model_selection import train_test_split\n",
    "from sklearn.preprocessing import StandardScaler\n",
    "\n",
    "from sklearn.linear_model import LogisticRegression\n",
    "from sklearn.naive_bayes import GaussianNB\n",
    "from sklearn.ensemble import RandomForestClassifier\n",
    "from sklearn.svm import SVC\n",
    "from sklearn.ensemble import AdaBoostClassifier\n",
    "from sklearn.ensemble import GradientBoostingClassifier\n",
    "from xgboost import XGBClassifier\n",
    "\n",
    "from sklearn.metrics import classification_report, confusion_matrix"
   ]
  },
  {
   "cell_type": "code",
   "execution_count": null,
   "metadata": {},
   "outputs": [],
   "source": [
    "# random_state\n",
    "rdm_st = 123\n",
    "\n",
    "X = data3.drop(columns=[targ])\n",
    "y = data3[targ]\n",
    "\n",
    "# features = X.columns"
   ]
  },
  {
   "cell_type": "code",
   "execution_count": null,
   "metadata": {},
   "outputs": [],
   "source": [
    "my_scaler = StandardScaler()\n",
    "X_scaled = my_scaler.fit_transform(X)\n",
    "\n",
    "X_train, X_test, y_train, y_test = train_test_split(X_scaled, y, test_size=0.2, random_state=rdm_st)"
   ]
  },
  {
   "cell_type": "code",
   "execution_count": null,
   "metadata": {},
   "outputs": [],
   "source": [
    "# models\n",
    "models = {\n",
    "    'log_model': LogisticRegression(random_state=rdm_st),\n",
    "    'nb_model': GaussianNB(),\n",
    "    'rf_model': RandomForestClassifier(random_state=rdm_st),\n",
    "    'svc': SVC(random_state=rdm_st),\n",
    "    'ada_boost': AdaBoostClassifier(random_state=rdm_st),\n",
    "    'gr_boost': GradientBoostingClassifier(random_state=rdm_st),\n",
    "    'xgb': XGBClassifier(n_estimators=5 , use_label_encoder=False, random_state=rdm_st),\n",
    "}"
   ]
  },
  {
   "cell_type": "code",
   "execution_count": null,
   "metadata": {},
   "outputs": [],
   "source": [
    "for name, estimator in models.items():\n",
    "    # fit \n",
    "    estimator.fit(X_train, y_train)\n",
    "    \n",
    "    # make predictions\n",
    "    pred = estimator.predict(X_test)\n",
    "    clf_report = classification_report(y_test, pred)\n",
    "    conf_matrix = confusion_matrix(y_test, pred)\n",
    "    \n",
    "    print(f\"Estimator: {name}: \\n Classification Report: \\n{clf_report} \\nConfusion Matrix: \\n{conf_matrix} \\n\")\n",
    "    print(\"==\" * 30)"
   ]
  },
  {
   "cell_type": "markdown",
   "metadata": {},
   "source": [
    "### Model Tuning "
   ]
  },
  {
   "cell_type": "code",
   "execution_count": null,
   "metadata": {},
   "outputs": [],
   "source": [
    "from sklearn.model_selection import RandomizedSearchCV\n",
    "from scipy import stats"
   ]
  },
  {
   "cell_type": "code",
   "execution_count": null,
   "metadata": {},
   "outputs": [],
   "source": [
    "rf_params = dict(n_estimators=np.arange(10, 160, 20), min_samples_leaf=np.arange(1, 15, 2))"
   ]
  },
  {
   "cell_type": "code",
   "execution_count": null,
   "metadata": {},
   "outputs": [],
   "source": [
    "rf = RandomForestClassifier(random_state=rdm_st)\n",
    "rf_rdm_search = RandomizedSearchCV(estimator=rf, param_distributions=rf_params, random_state=rdm_st, scoring='f1')"
   ]
  },
  {
   "cell_type": "code",
   "execution_count": null,
   "metadata": {},
   "outputs": [],
   "source": [
    "# fit \n",
    "rf_rdm_search.fit(X_train, y_train)\n",
    "\n",
    "# best parameters\n",
    "rf_rdm_search.best_params_"
   ]
  },
  {
   "cell_type": "code",
   "execution_count": null,
   "metadata": {},
   "outputs": [],
   "source": [
    "models1 = {\n",
    "    'rf_model': RandomForestClassifier(n_estimators=50, min_samples_leaf=13, random_state=rdm_st),\n",
    "#     'svc': SVC(C = 9.77, gamma = 0.16, random_state=rdm_st),\n",
    "}"
   ]
  },
  {
   "cell_type": "code",
   "execution_count": null,
   "metadata": {},
   "outputs": [],
   "source": [
    "for name, estimator in models1.items():\n",
    "    # fit \n",
    "    estimator.fit(X_train, y_train)\n",
    "    \n",
    "    # make predictions\n",
    "    pred = estimator.predict(X_test)\n",
    "    clf_report = classification_report(y_test, pred)\n",
    "    conf_matrix = confusion_matrix(y_test, pred)\n",
    "    \n",
    "    print(f\"Estimator: {name}: \\n Classification Report: \\n{clf_report} \\nConfusion Matrix: \\n{conf_matrix} \\n\")\n",
    "    print(\"==\" * 30)"
   ]
  },
  {
   "cell_type": "code",
   "execution_count": null,
   "metadata": {},
   "outputs": [],
   "source": []
  },
  {
   "cell_type": "code",
   "execution_count": null,
   "metadata": {},
   "outputs": [],
   "source": []
  },
  {
   "cell_type": "code",
   "execution_count": null,
   "metadata": {},
   "outputs": [],
   "source": []
  },
  {
   "cell_type": "code",
   "execution_count": null,
   "metadata": {},
   "outputs": [],
   "source": []
  }
 ],
 "metadata": {
  "kernelspec": {
   "display_name": "Python 3",
   "language": "python",
   "name": "python3"
  },
  "language_info": {
   "codemirror_mode": {
    "name": "ipython",
    "version": 3
   },
   "file_extension": ".py",
   "mimetype": "text/x-python",
   "name": "python",
   "nbconvert_exporter": "python",
   "pygments_lexer": "ipython3",
   "version": "3.8.5"
  }
 },
 "nbformat": 4,
 "nbformat_minor": 4
}
